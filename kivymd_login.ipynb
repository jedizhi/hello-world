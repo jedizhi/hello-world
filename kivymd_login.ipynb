{
  "nbformat": 4,
  "nbformat_minor": 0,
  "metadata": {
    "colab": {
      "name": "kivymd_login.ipynb",
      "provenance": [],
      "authorship_tag": "ABX9TyNu7l5/e6fYvv2+tjEdl1YF",
      "include_colab_link": true
    },
    "kernelspec": {
      "name": "python3",
      "display_name": "Python 3"
    },
    "language_info": {
      "name": "python"
    }
  },
  "cells": [
    {
      "cell_type": "markdown",
      "metadata": {
        "id": "view-in-github",
        "colab_type": "text"
      },
      "source": [
        "<a href=\"https://colab.research.google.com/github/jedizhi/hello-world/blob/master/kivymd_login.ipynb\" target=\"_parent\"><img src=\"https://colab.research.google.com/assets/colab-badge.svg\" alt=\"Open In Colab\"/></a>"
      ]
    },
    {
      "cell_type": "code",
      "metadata": {
        "id": "oyIAmtBAVaQT"
      },
      "source": [
        "from kivy.lang import Builder\n",
        "from kivymd.app import MDApp\n",
        "\n",
        "class MainApp(MDApp):\n",
        "  def build(self):\n",
        "    self.theme_cls.theme_style = \"Dark\"\n",
        "    self.theme_cls.primary_pallete = \"BlueGray\"\n",
        "    return Builder.load_file(\"login.kv\")\n",
        "  def logger(self):\n",
        "    self.root.ids.welcome_label.text = f'Sup {self.root.ids.user.text}!'\n",
        "  def clear(self):\n",
        "    self.root.ids.welcome_label.text = \"WELCOME\"\n",
        "    self.root.ids.user.text = \"\"\n",
        "    self.root.ids.password.text = \"\"\n",
        "\n",
        "MainApp().run()\n"
      ],
      "execution_count": null,
      "outputs": []
    },
    {
      "cell_type": "code",
      "metadata": {
        "id": "quzHDup5YA7q"
      },
      "source": [
        "Screen:\n",
        "    \n",
        "    MDCard:\n",
        "        size_hint: None, None\n",
        "        size: 300, 400\n",
        "        pos_hint: {\"center_x\": 0.5, \"center_y\": 0.5}\n",
        "        elevation: 10\n",
        "        padding: 25\n",
        "        spacing: 25\n",
        "        orientation: 'vertical'\n",
        "\n",
        "        MDLabel:\n",
        "            id: welcome_label\n",
        "            text: \"WELCOME\"\n",
        "            font_size: 40\n",
        "            halign: 'center'\n",
        "            size_hint_y: None\n",
        "            height: self.texture_size[1]\n",
        "            padding_y: 15\n",
        "\n",
        "        MDTextFieldRound:\n",
        "            id: user\n",
        "            hint_text: \"username\"\n",
        "            icon_right: \"account\"\n",
        "            size_hint_x: None\n",
        "            width: 200\n",
        "            font_size: 18\n",
        "            pos_hint: {\"center_x\": 0.5}\n",
        "\n",
        "        MDTextFieldRound:\n",
        "            id: password\n",
        "            hint_text: \"password\"\n",
        "            icon_right: \"eye-off\"\n",
        "            size_hint_x: None\n",
        "            width: 200\n",
        "            font_size: 18\n",
        "            pos_hint: {\"center_x\": 0.5}\n",
        "            password: True\n",
        "\n",
        "        MDRoundFlatButton:\n",
        "            text: \"LOG IN\"\n",
        "            font_size: 12\n",
        "            pos_hint: {\"center_x\": 0.5}\n",
        "            on_press: app.logger()\n",
        "\n",
        "        MDRoundFlatButton:\n",
        "            text: \"CLEAR\"\n",
        "            font_size: 12\n",
        "            pos_hint: {\"center_x\": 0.5} \n",
        "            on_press: app.clear()           \n",
        "\n",
        "        Widget:\n",
        "            size_hint_y: None\n",
        "            height: 10\n"
      ],
      "execution_count": null,
      "outputs": []
    }
  ]
}